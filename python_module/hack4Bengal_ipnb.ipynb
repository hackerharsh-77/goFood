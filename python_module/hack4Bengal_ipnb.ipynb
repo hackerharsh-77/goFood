{
  "nbformat": 4,
  "nbformat_minor": 0,
  "metadata": {
    "colab": {
      "name": "hack4Bengal.ipnb",
      "provenance": []
    },
    "kernelspec": {
      "name": "python3",
      "display_name": "Python 3"
    },
    "language_info": {
      "name": "python"
    }
  },
  "cells": [
    {
      "cell_type": "code",
      "execution_count": null,
      "metadata": {
        "id": "fthj1tZRHi3m"
      },
      "outputs": [],
      "source": [
        "# This is a sample Python script.\n",
        "\n",
        "# Press Shift+F10 to execute it or replace it with your code.\n",
        "# Press Double Shift to search everywhere for classes, files, tool windows, actions, and settings.\n",
        "import cv2\n",
        "import pickle\n",
        "import numpy as np\n",
        "\n",
        "rectW,rectH = 107, 48\n",
        "cap=cv2.VideoCapture('video.mp4')\n",
        "\n",
        "with open('carParkPos', 'rb') as f:\n",
        "    posList=pickle.load(f)\n",
        "def check(imgPro):\n",
        "    spaceCount = 0\n",
        "    for pos in posList:\n",
        "        x,y=pos\n",
        "        crop=imgPro[y:y+rectH,x:x+rectW]\n",
        "        count=cv2.countNonZero(crop)\n",
        "        if count<900:\n",
        "            spaceCount +=1\n",
        "            color=(0,255,0)\n",
        "            thick = 5\n",
        "        else:\n",
        "            color=(0,0,255)\n",
        "            thick = 2\n",
        "        cv2.rectangle(img,pos, (x+rectW, y+rectH) , color,thick)\n",
        "    cv2.rectangle(img, (45,30), (250, 75), (100,0,100), -1)\n",
        "    cv2.putText(img, f'Free: {spaceCount}/{len(posList)}', (50,60), cv2.FONT_HERSHEY_SIMPLEX, 0.9, (255,255,255),2 )\n",
        "\n",
        "while True:\n",
        "    _,img = cap.read()\n",
        "    gray=cv2.cvtColor(img,cv2.COLOR_BGR2GRAY)\n",
        "    blur=cv2.GaussianBlur(gray, (3,3),1)\n",
        "    Thre= cv2.adaptiveThreshold(blur, 255,cv2.ADAPTIVE_THRESH_GAUSSIAN_C,cv2.THRESH_BINARY_INV, 25,16)\n",
        "    blur=cv2.medianBlur(Thre, 5)\n",
        "    kernel=np.ones((3,3),np.uint8)\n",
        "    dilate=cv2.dilate(blur,kernel,iterations=1)\n",
        "    check(dilate)\n",
        "    \n",
        "    cv2.imshow(\"Image\", img)\n",
        "    cv2.waitKey(15)\n",
        "    \n",
        "\n",
        "\n",
        "\n",
        "# See PyCharm help at https://www.jetbrains.com/help/pycharm/\n"
      ]
    },
    {
      "cell_type": "markdown",
      "source": [
        "# New Section"
      ],
      "metadata": {
        "id": "I1elaVJJICqL"
      }
    }
  ]
}